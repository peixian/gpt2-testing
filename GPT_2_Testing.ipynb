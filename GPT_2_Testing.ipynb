{
  "nbformat": 4,
  "nbformat_minor": 0,
  "metadata": {
    "colab": {
      "name": "GPT 2 Testing",
      "provenance": [],
      "collapsed_sections": []
    },
    "kernelspec": {
      "name": "python3",
      "display_name": "Python 3"
    },
    "accelerator": "GPU"
  },
  "cells": [
    {
      "cell_type": "code",
      "metadata": {
        "id": "KBkpRgBCBS2_",
        "colab_type": "code",
        "outputId": "492abf81-7a01-4551-dcbf-c8e3adf6381b",
        "colab": {
          "base_uri": "https://localhost:8080/",
          "height": 173
        }
      },
      "source": [
        "%tensorflow_version 1.x\n",
        "!pip install -q gpt-2-simple\n",
        "import seaborn as sns\n",
        "from datetime import datetime\n",
        "from google.colab import files\n",
        "import gpt_2_simple as gpt2"
      ],
      "execution_count": 0,
      "outputs": [
        {
          "output_type": "stream",
          "text": [
            "TensorFlow 1.x selected.\n",
            "WARNING:tensorflow:\n",
            "The TensorFlow contrib module will not be included in TensorFlow 2.0.\n",
            "For more information, please see:\n",
            "  * https://github.com/tensorflow/community/blob/master/rfcs/20180907-contrib-sunset.md\n",
            "  * https://github.com/tensorflow/addons\n",
            "  * https://github.com/tensorflow/io (for I/O related ops)\n",
            "If you depend on functionality not listed there, please file an issue.\n",
            "\n"
          ],
          "name": "stdout"
        }
      ]
    },
    {
      "cell_type": "code",
      "metadata": {
        "id": "NiUf6umOw5Gy",
        "colab_type": "code",
        "colab": {}
      },
      "source": [
        ""
      ],
      "execution_count": 0,
      "outputs": []
    },
    {
      "cell_type": "code",
      "metadata": {
        "id": "sUmTooTW3osf",
        "colab_type": "code",
        "outputId": "2269310f-8e5a-4ec6-890d-bc306709d431",
        "colab": {
          "base_uri": "https://localhost:8080/",
          "height": 312
        }
      },
      "source": [
        "!nvidia-smi"
      ],
      "execution_count": 0,
      "outputs": [
        {
          "output_type": "stream",
          "text": [
            "Sun Mar 29 19:05:43 2020       \n",
            "+-----------------------------------------------------------------------------+\n",
            "| NVIDIA-SMI 440.64.00    Driver Version: 418.67       CUDA Version: 10.1     |\n",
            "|-------------------------------+----------------------+----------------------+\n",
            "| GPU  Name        Persistence-M| Bus-Id        Disp.A | Volatile Uncorr. ECC |\n",
            "| Fan  Temp  Perf  Pwr:Usage/Cap|         Memory-Usage | GPU-Util  Compute M. |\n",
            "|===============================+======================+======================|\n",
            "|   0  Tesla T4            Off  | 00000000:00:04.0 Off |                    0 |\n",
            "| N/A   56C    P8    12W /  70W |      0MiB / 15079MiB |      0%      Default |\n",
            "+-------------------------------+----------------------+----------------------+\n",
            "                                                                               \n",
            "+-----------------------------------------------------------------------------+\n",
            "| Processes:                                                       GPU Memory |\n",
            "|  GPU       PID   Type   Process name                             Usage      |\n",
            "|=============================================================================|\n",
            "|  No running processes found                                                 |\n",
            "+-----------------------------------------------------------------------------+\n"
          ],
          "name": "stdout"
        }
      ]
    },
    {
      "cell_type": "code",
      "metadata": {
        "id": "P8wSlgXoDPCR",
        "colab_type": "code",
        "outputId": "be392f77-57a9-461f-df6a-a4677ad1e0ba",
        "colab": {
          "base_uri": "https://localhost:8080/",
          "height": 139
        }
      },
      "source": [
        "gpt2.download_gpt2(model_name=\"124M\")"
      ],
      "execution_count": 0,
      "outputs": [
        {
          "output_type": "stream",
          "text": [
            "Fetching checkpoint: 1.05Mit [00:00, 255Mit/s]                                                      \n",
            "Fetching encoder.json: 1.05Mit [00:00, 114Mit/s]                                                    \n",
            "Fetching hparams.json: 1.05Mit [00:00, 540Mit/s]                                                    \n",
            "Fetching model.ckpt.data-00000-of-00001: 498Mit [00:06, 79.8Mit/s]                                  \n",
            "Fetching model.ckpt.index: 1.05Mit [00:00, 446Mit/s]                                                \n",
            "Fetching model.ckpt.meta: 1.05Mit [00:00, 146Mit/s]                                                 \n",
            "Fetching vocab.bpe: 1.05Mit [00:00, 229Mit/s]                                                       \n"
          ],
          "name": "stderr"
        }
      ]
    },
    {
      "cell_type": "markdown",
      "metadata": {
        "id": "fGTySmlts4ih",
        "colab_type": "text"
      },
      "source": [
        "using the 124M model because collabatory has some issues with larger models"
      ]
    },
    {
      "cell_type": "markdown",
      "metadata": {
        "id": "N8KXuKWzQSsN",
        "colab_type": "text"
      },
      "source": [
        "## Mounting Google Drive\n"
      ]
    },
    {
      "cell_type": "code",
      "metadata": {
        "id": "puq4iC6vUAHc",
        "colab_type": "code",
        "outputId": "ea0536a7-15be-4766-d5c0-04c68c8b0dcc",
        "colab": {
          "base_uri": "https://localhost:8080/",
          "height": 124
        }
      },
      "source": [
        "gpt2.mount_gdrive()"
      ],
      "execution_count": 0,
      "outputs": [
        {
          "output_type": "stream",
          "text": [
            "Go to this URL in a browser: https://accounts.google.com/o/oauth2/auth?client_id=947318989803-6bn6qk8qdgf4n4g3pfee6491hc0brc4i.apps.googleusercontent.com&redirect_uri=urn%3aietf%3awg%3aoauth%3a2.0%3aoob&response_type=code&scope=email%20https%3a%2f%2fwww.googleapis.com%2fauth%2fdocs.test%20https%3a%2f%2fwww.googleapis.com%2fauth%2fdrive%20https%3a%2f%2fwww.googleapis.com%2fauth%2fdrive.photos.readonly%20https%3a%2f%2fwww.googleapis.com%2fauth%2fpeopleapi.readonly\n",
            "\n",
            "Enter your authorization code:\n",
            "··········\n",
            "Mounted at /content/drive\n"
          ],
          "name": "stdout"
        }
      ]
    },
    {
      "cell_type": "code",
      "metadata": {
        "id": "yjyYEijDuPXh",
        "colab_type": "code",
        "colab": {}
      },
      "source": [
        "import pandas as pd\n",
        "import json"
      ],
      "execution_count": 0,
      "outputs": []
    },
    {
      "cell_type": "markdown",
      "metadata": {
        "id": "G5e3K2RDuiYQ",
        "colab_type": "text"
      },
      "source": [
        "code below takes facebook style `message_[0-9].json` messages downloaded from fb archive and translates them to gpt2 compatible txt files"
      ]
    },
    {
      "cell_type": "code",
      "metadata": {
        "id": "LgnA689EuQJC",
        "colab_type": "code",
        "colab": {}
      },
      "source": [
        "df = pd.DataFrame()\n",
        "for i in range(1, 13):\n",
        "    f = open(\"./message_{}.json\".format(i))\n",
        "    messages = json.load(f)\n",
        "    df = df.append(pd.DataFrame(messages['messages']))"
      ],
      "execution_count": 0,
      "outputs": []
    },
    {
      "cell_type": "code",
      "metadata": {
        "id": "J5jDVe4zuTZs",
        "colab_type": "code",
        "colab": {}
      },
      "source": [
        "txt =df.apply(lambda x: \"{}: {}\".format(x['sender_name'],x['content']), axis=1)\n",
        "#txt = txt.unique()\n",
        "type(txt)"
      ],
      "execution_count": 0,
      "outputs": []
    },
    {
      "cell_type": "code",
      "metadata": {
        "id": "qh2OsVDzuVgP",
        "colab_type": "code",
        "colab": {}
      },
      "source": [
        "txt = pd.Series(txt.unique())\n"
      ],
      "execution_count": 0,
      "outputs": []
    },
    {
      "cell_type": "code",
      "metadata": {
        "id": "beZsHKCYuXju",
        "colab_type": "code",
        "colab": {}
      },
      "source": [
        "import numpy as np"
      ],
      "execution_count": 0,
      "outputs": []
    },
    {
      "cell_type": "code",
      "metadata": {
        "id": "NxB_S1PHuX3y",
        "colab_type": "code",
        "colab": {}
      },
      "source": [
        "np.savetxt(r'./messages.txt', txt.values, fmt=\"%s\")"
      ],
      "execution_count": 0,
      "outputs": []
    },
    {
      "cell_type": "code",
      "metadata": {
        "id": "6OFnPCLADfll",
        "colab_type": "code",
        "colab": {}
      },
      "source": [
        "file_name = \"messages.txt\""
      ],
      "execution_count": 0,
      "outputs": []
    },
    {
      "cell_type": "markdown",
      "metadata": {
        "id": "VVwfbnABtDtl",
        "colab_type": "text"
      },
      "source": [
        "# gpt2 tuning\n",
        "\n",
        "- `restore_from`: `fresh` for new, `latest` for last checkpoint\n",
        "    - !!!!!!!for some reason restoring from checkpoints cannot be used with a new tensorflow session???\n",
        "- `sample_every` -> generates a sample every n steps\n",
        "- `print_every` -> steps to print\n",
        "- `learning_rate` \n",
        "    - Actually needs to be tuned for different hyperparams, 1e-4 is the default, but check https://github.com/minimaxir/gpt-2-simple#differences-between-gpt-2-simple-and-other-text-generation-utilities\n",
        "    \n"
      ]
    },
    {
      "cell_type": "code",
      "metadata": {
        "id": "mGw8CiJZafoT",
        "colab_type": "code",
        "colab": {}
      },
      "source": [
        "sess = gpt2.start_tf_sess()\n"
      ],
      "execution_count": 0,
      "outputs": []
    },
    {
      "cell_type": "code",
      "metadata": {
        "id": "aeXshJM-Cuaf",
        "colab_type": "code",
        "outputId": "748b0578-04d4-43fa-e0c3-6edd154a7eab",
        "colab": {
          "base_uri": "https://localhost:8080/",
          "height": 1000
        }
      },
      "source": [
        "\n",
        "gpt2.finetune(sess,\n",
        "              dataset=file_name,\n",
        "              model_name='124M',\n",
        "              steps=1000,\n",
        "              restore_from='latest',\n",
        "              run_name='run1',\n",
        "              print_every=10,\n",
        "              sample_every=200,\n",
        "              save_every=100,\n",
        "              overwrite=True\n",
        "              )"
      ],
      "execution_count": 0,
      "outputs": [
        {
          "output_type": "stream",
          "text": [
            "WARNING:tensorflow:From /usr/local/lib/python3.6/dist-packages/gpt_2_simple/src/sample.py:17: where (from tensorflow.python.ops.array_ops) is deprecated and will be removed in a future version.\n",
            "Instructions for updating:\n",
            "Use tf.where in 2.0, which has the same broadcast rule as np.where\n",
            "Loading checkpoint checkpoint/run1/model-1000\n",
            "INFO:tensorflow:Restoring parameters from checkpoint/run1/model-1000\n"
          ],
          "name": "stdout"
        },
        {
          "output_type": "stream",
          "text": [
            "\r  0%|          | 0/1 [00:00<?, ?it/s]"
          ],
          "name": "stderr"
        },
        {
          "output_type": "stream",
          "text": [
            "Loading dataset...\n"
          ],
          "name": "stdout"
        },
        {
          "output_type": "stream",
          "text": [
            "100%|██████████| 1/1 [00:05<00:00,  5.37s/it]\n"
          ],
          "name": "stderr"
        },
        {
          "output_type": "stream",
          "text": [
            "dataset has 1170687 tokens\n",
            "Training...\n",
            "Saving checkpoint/run1/model-1000\n",
            "Saving checkpoint/run1/model-1000\n",
            "======== SAMPLE 1 ========\n",
            "\n",
            "Dang FuFu: what do u mean\n",
            "Peixian Wang: like if you don't think you can swim it's a badge of admission lol\n",
            "Peixian Wang: if they don't make enough money they don't get slapped on a registry lol\n",
            "Dang FuFu: but i have to live off of ramen for the next month :^)\n",
            "Dang FuFu: lol\n",
            "Dang FuFu: u eat like cat shit\n",
            "Peixian Wang: yeah eating isn't the same as sleeping easy :^)\n",
            "Dang FuFu: u also definitely have to be lazy to take care of yourself :^)\n",
            "Dang FuFu: its luniks\n",
            "Peixian Wang: every day is like 1/4 of mardu\n",
            "Dang FuFu: i work a 10hr day\n",
            "Peixian Wang: yeah people are fukn busy but I feel I've outgrown all of p3k Australia\n",
            "Dang FuFu: :^)\n",
            "Dang FuFu: are u going to do ur $100 dinner at work?\n",
            "Dang FuFu: id really dont want to\n",
            "Peixian Wang: if id spend money at work I feel like I've earned it\n",
            "Dang FuFu: lol\n",
            "Peixian Wang: and I've definitely wasted $100 on sushi in p3k\n",
            "Dang FuFu: not sure if its because of travel, but sushi is the norm everywhere\n",
            "Dang FuFu: yeah\n",
            "Peixian Wang: (excluding flight)\n",
            "Peixian Wang: if you're gonna spend money at work do it at work\n",
            "Dang FuFu: im probably not :p\n",
            "Dang FuFu: im probably spending somewhere between 150 and 200 a day on sushi\n",
            "Peixian Wang: I feel like I've literally saved Australia $100 a year!\n",
            "Dang FuFu: aight\n",
            "Peixian Wang: and I definitely wouldve wanted to spend a lot more money on sushi at this point\n",
            "Peixian Wang: I wouldve been 100k for Australia but like... I canât remember what country I came from\n",
            "Dang FuFu: :^)\n",
            "Dang FuFu: for sure :^)\n",
            "Peixian Wang: I can also only recall one person that I came from\n",
            "Dang FuFu: lol\n",
            "Peixian Wang: it's amazing\n",
            "Peixian Wang: I can't even remember the last time I sliced a sushi pla\n",
            "Dang FuFu: like\n",
            "Dang FuFu: :^)\n",
            "Dang FuFu: plato\n",
            "Peixian Wang: wow I found out there's a spicy food chain at 2401 Phillips Ln Houston, FL because my sister told me about it\n",
            "Dang FuFu: :^)\n",
            "Dang FuFu: u guys dont talk to each other like that for a living :(\n",
            "Peixian Wang: lol no\n",
            "Dang FuFu: lol\n",
            "Peixian Wang: since he's leaving Boeing.\n",
            "Dang FuFu: lol\n",
            "Peixian Wang: idk I think he's staying at Boeing\n",
            "Dang FuFu: :^)\n",
            "Peixian Wang: unless you count the days since he's been here\n",
            "Peixian Wang: which he has denied\n",
            "Peixian Wang: I can swear that if you ask him why he's leaving, he'll say he's making good money\n",
            "Peixian Wang: although it's true\n",
            "Peixian Wang: I think Boeing is making mediocre-man*\n",
            "Peixian Wang: I think Boeing is making mediocre-people\n",
            "Dang FuFu: lol\n",
            "Dang FuFu: oh no\n",
            "Peixian Wang: so I assume he's leaving Boeing soon\n",
            "Dang FuFu: he's staying at bldg next month\n",
            "Peixian Wang: which is another sign that the company is somehow making mediocre-people-working\n",
            "Peixian Wang: also bldg is closed\n",
            "Peixian Wang: Bldg is open for business on Tuesday as usual (we're down at bldg), and business will continue on Wednesday\n",
            "Dang FuFu: yeah\n",
            "Peixian Wang: btw, where are the engineers at bldg?\n",
            "Peixian Wang: nan\n",
            "Dang FuFu: :^)\n",
            "Peixian Wang: sorry a story...\n",
            "Dang FuFu: he said bldg is \"down for business\"\n",
            "Peixian Wang: it's business as usual at bldg\n",
            "Peixian Wang: it's been more as if our engineering department isn't doing enough for the company to not be negatively affected\n",
            "Dang FuFu: it's not even on time :^)\n",
            "Peixian Wang: well I guess it's not even on time\n",
            "Dang FuFu: i think our engineering department got hit\n",
            "Peixian Wang: but I don\n",
            "\n",
            "[1010 | 42.98] loss=2.19 avg=2.19\n",
            "[1020 | 65.71] loss=1.96 avg=2.08\n",
            "[1030 | 89.38] loss=1.85 avg=2.00\n",
            "[1040 | 112.73] loss=2.15 avg=2.04\n",
            "[1050 | 135.65] loss=2.57 avg=2.15\n",
            "[1060 | 158.69] loss=2.31 avg=2.18\n",
            "[1070 | 181.97] loss=2.27 avg=2.19\n",
            "[1080 | 205.20] loss=2.08 avg=2.17\n",
            "[1090 | 228.33] loss=1.73 avg=2.12\n",
            "[1100 | 251.44] loss=2.12 avg=2.12\n",
            "Saving checkpoint/run1/model-1100\n",
            "WARNING:tensorflow:From /tensorflow-1.15.2/python3.6/tensorflow_core/python/training/saver.py:963: remove_checkpoint (from tensorflow.python.training.checkpoint_management) is deprecated and will be removed in a future version.\n",
            "Instructions for updating:\n",
            "Use standard file APIs to delete files with this prefix.\n",
            "[1110 | 276.80] loss=1.62 avg=2.07\n",
            "[1120 | 300.05] loss=1.56 avg=2.03\n",
            "[1130 | 323.26] loss=2.09 avg=2.03\n",
            "[1140 | 346.43] loss=1.96 avg=2.03\n",
            "[1150 | 369.58] loss=1.88 avg=2.02\n",
            "[1160 | 392.66] loss=1.67 avg=1.99\n",
            "[1170 | 415.75] loss=1.63 avg=1.97\n",
            "[1180 | 438.86] loss=2.28 avg=1.99\n",
            "[1190 | 462.00] loss=1.90 avg=1.98\n",
            "[1200 | 485.22] loss=2.17 avg=1.99\n",
            "Saving checkpoint/run1/model-1200\n",
            "======== SAMPLE 1 ========\n",
            "ack FuFu\n",
            "Peixian Wang: you can also sign up for my eBooks\n",
            "Peixian Wang: oh we're meeting for drinks\n",
            "Dang FuFu: are u going to go outside hong kong\n",
            "Dang FuFu: i thought we had a good lunch there\n",
            "Dang FuFu: its pretty liberal there too\n",
            "Dang FuFu: i dont speak  of the vegas fnm\n",
            "Peixian Wang: I think I've made at most 3 groups, but I did get in on one\n",
            "Dang FuFu: px :>\n",
            "John Ryan Hamilton: But I'm still here for the fun of it..the xmas l <3\n",
            "John Ryan Hamilton: Get in jr\n",
            "Dang FuFu: I'll bring foil px\n",
            "John Ryan Hamilton: Yeah I guess I should\n",
            "John Ryan Hamilton: Also are you going to go pr apron?\n",
            "John Ryan Hamilton: So...Periplaneta?\n",
            "John Ryan Hamilton: We should group hangouts in the xmas\n",
            "Dang FuFu: I'm hanging with some friends though\n",
            "Dang FuFu: Px :p\n",
            "Dang FuFu: Its real sore\n",
            "John Ryan Hamilton: Also Lunik are any of you going to the pl\n",
            "Peixian Wang: ó¾ð¼ð¼ð¼\n",
            "Dang FuFu: Can U not hangouts with Lunik\n",
            "Dang FuFu: My team is great too XD\n",
            "Dang FuFu: Im prob going to come to xmas with u in 2017 when we start having px\n",
            "Dang FuFu: Hey peixian!\n",
            "Peixian Wang: Maybe I'll come\n",
            "Peixian Wang: Eh I'm staying\n",
            "Dang FuFu: Are u in chicago for sf :3\n",
            "Dang FuFu: I've been flying home bois\n",
            "Alex Spring: You're not missing your flight :^)\n",
            "Dang FuFu: So I'm mostly staying up to go to the xmas\n",
            "Dang FuFu: I'm not going :^)\n",
            "John Ryan Hamilton: I'll come for the xmas\n",
            "Dang FuFu: I'm gonna come to nyc then huh\n",
            "Dang FuFu: Hey @america\n",
            "Dang FuFu: So you're saying u're considering getting back in?\n",
            "Scott Kirkwood: I haven't left this club in ages\n",
            "Dang FuFu: Why?\n",
            "Scott Kirkwood: >go\n",
            "Scott Kirkwood: >back to club\n",
            "John Ryan Hamilton: You're an introvert right jr?\n",
            "Dang FuFu: How do you even phrase that\n",
            "Alex Spring: huh that's a bit weird\n",
            "Scott Kirkwood: >come to lounge\n",
            "Scott Kirkwood: >looking forward to it\n",
            "Dang FuFu: Is it bad?\n",
            "Dang FuFu: There's a bunch of applicants this weekend\n",
            "Scott Kirkwood: I do like how applicants started talking about how \"hip\" it is each year now\n",
            "Dang FuFu: Ok px\n",
            "Peixian Wang: \"Look at this visa I can't refuse!\"\n",
            "Peixian Wang: \"Oh no I'm stuck on a red card which only applies to uninscribed students in the lab\"\n",
            "John Ryan Hamilton: That was a joke\n",
            "Peixian Wang: also the jokes are all in the paper\n",
            "Peixian Wang: they're not a cancer but the virus is\n",
            "Dang FuFu: The red card is cancer\n",
            "John Ryan Hamilton: It's a giant misunderstanding of what a cancer is\n",
            "Dang FuFu: Are u a cancer anymore?\n",
            "Peixian Wang: the red card is a huge tumor\n",
            "Peixian Wang: the paper version is...questionable\n",
            "Dang FuFu: Is this cancer anymore\n",
            "John Ryan Hamilton: The red card is cancer\n",
            "Dang FuFu: WHOA L A N D S H I G H S H I R K L A L Y\n",
            "John Ryan Hamilton: *questionable lol\n",
            "John Ryan Hamilton: It was good this weekend\n",
            "Dang FuFu: Are u a cancer?\n",
            "Dang FuFu: That card was supposed to be LUL\n",
            "Dang FuFu: Waiiittt\n",
            "Peixian Wang: wait it's LUL\n",
            "Dang FuFu: That sucks\n",
            "Dang FuFu: http://mtgrotor.com/card/sshhamp?utm_deck=19&utm_content=206647&utm_campaign=T20%20R&utm_medium=LI\n",
            "Dang FuFu: That article is bad\n",
            "Dang FuFu: I mean irl\n",
            "Dang FuFu: This looks like a good time to see if skirk should be legal\n",
            "Dang FuFu: https://i.imgur.com/nZ\n",
            "\n",
            "[1210 | 521.57] loss=2.15 avg=2.00\n",
            "[1220 | 544.83] loss=2.04 avg=2.01\n",
            "[1230 | 567.98] loss=2.24 avg=2.02\n",
            "[1240 | 591.07] loss=2.08 avg=2.02\n",
            "[1250 | 614.17] loss=1.87 avg=2.01\n",
            "[1260 | 637.30] loss=2.06 avg=2.01\n",
            "[1270 | 660.44] loss=1.98 avg=2.01\n",
            "[1280 | 683.65] loss=2.21 avg=2.02\n",
            "[1290 | 706.87] loss=1.74 avg=2.01\n",
            "[1300 | 730.07] loss=2.38 avg=2.02\n",
            "Saving checkpoint/run1/model-1300\n",
            "[1310 | 755.46] loss=2.07 avg=2.03\n",
            "[1320 | 778.73] loss=2.03 avg=2.03\n",
            "[1330 | 802.02] loss=1.81 avg=2.02\n",
            "[1340 | 825.19] loss=1.41 avg=2.00\n",
            "[1350 | 848.25] loss=2.01 avg=2.00\n",
            "[1360 | 871.46] loss=1.48 avg=1.98\n",
            "[1370 | 894.73] loss=2.19 avg=1.99\n",
            "[1380 | 917.90] loss=2.13 avg=1.99\n",
            "[1390 | 941.02] loss=2.36 avg=2.00\n",
            "[1400 | 964.12] loss=1.81 avg=2.00\n",
            "Saving checkpoint/run1/model-1400\n",
            "======== SAMPLE 1 ========\n",
            "John Ryan Hamilton: What about dnt\n",
            "Peixian Wang: the guy is doing this on a sunday\n",
            "Peixian Wang: are you in nyc\n",
            "Alex Spring: you should probably get a sunday\n",
            "Alex Spring: yah, I just got to pick it up I guess\n",
            "Peixian Wang: like why is your house not up to snuff\n",
            "Peixian Wang: the fuck is this place\n",
            "Peixian Wang: I'm getting a table to help pick it up too\n",
            "Peixian Wang: jesus wotc\n",
            "Dang FuFu: I want to buy that as well lul\n",
            "Peixian Wang: so....?\n",
            "Peixian Wang: I wanna buy a table then\n",
            "Peixian Wang: and where does this help\n",
            "Peixian Wang: why is this shit\n",
            "Alex Spring: i don't think anyone wants to buy it lmao\n",
            "John Ryan Hamilton: \"I like my table\"\n",
            "Peixian Wang: that seems like a very valid reaction in this situation\n",
            "Peixian Wang: but people get their shit for you\n",
            "Peixian Wang: unless you're gonna dump them\n",
            "Alex Spring: and i am very interested in that. but i am also more interested in a return rather than an upfront cost.\n",
            "John Ryan Hamilton: If you don't get them through an upfront cost\n",
            "John Ryan Hamilton: I have been planning on this situation all week\n",
            "Peixian Wang: I'm not even getting this in the car lol\n",
            "Peixian Wang: I want to know what it is I should get for my next stop\n",
            "Peixian Wang: I have a car lol\n",
            "Alex Spring: also, dont feel bad idk how far you'll have to drive it to be self sufficient\n",
            "Alex Spring: lol that sounds like a terrible choice\n",
            "Peixian Wang: I am definitely more inclined to do them\n",
            "Alex Spring: o, if you want to do them it's self or it's in car i guess.\n",
            "Peixian Wang: but it's not a terrible choice\n",
            "Alex Spring: that's why\n",
            "Alex Spring: there is no good reason why you should ever get a table without this\n",
            "Peixian Wang: because there's like a non-exhaustive supply of old cars lol\n",
            "Alex Spring: i can have dinner with fufu next week\n",
            "Peixian Wang: or dinner with him\n",
            "Alex Spring: i don't know\n",
            "Peixian Wang: what restaurants are in ny for nyc/nyu next week\n",
            "Alex Spring: o rip\n",
            "Peixian Wang: no time to do this\n",
            "John Ryan Hamilton: That sounds too much like my duty\n",
            "John Ryan Hamilton: Wow this is weird\n",
            "Peixian Wang: https://twitter.com/ToxicTikToks/status/1003125341496033104\n",
            "John Ryan Hamilton: I can't wait to see this in the show when I leave gpt\n",
            "Peixian Wang: the show is on\n",
            "Peixian Wang: yooo that's the dream\n",
            "John Ryan Hamilton: No in season 1/1\n",
            "Peixian Wang: I'm convinced this is backdoor therapy\n",
            "Peixian Wang: I've learned to love this stupid show\n",
            "Scott Kirkwood: Yeah idk why you'd want to inanimate objects in p2p\n",
            "Alex Spring: It's not. They can't see it but have to keep\n",
            "John Ryan Hamilton: They can make it invisible because it's in episode 1\n",
            "Alex Spring: Is it? It is the same as before\n",
            "John Ryan Hamilton: Or is it?\n",
            "Peixian Wang: which is like 300% more expensive than before lol\n",
            "Peixian Wang: now it's just a matter of which of the two to pick\n",
            "Peixian Wang: yeah why pick it now\n",
            "John Ryan Hamilton: Now they're leaving lol\n",
            "Peixian Wang: you don't need to\n",
            "Peixian Wang: I do need to pick it up with my car now\n",
            "John Ryan Hamilton: No like 24 hours\n",
            "Alex Spring: Do they come in?\n",
            "Peixian Wang: the apartment that they're staying at is like a really shitty place\n",
            "Peixian Wang: yeah but I'm more willing to date those who wanna date someone who can date their non-husky\n",
            "Alex Spring: Does jr need to be a date now?\n",
            "Peixian Wang: okay why didn't you tell him like 4 months ago\n",
            "John Ryan Hamilton: That's fair\n",
            "John Ryan Hamilton: Idk I got my homework done anyways\n",
            "Alex Spring: And not a single date\n",
            "Alex Spring: Yah, but yeah it's a cool trailer\n",
            "Peixian Wang: yeah they're all invited\n",
            "Alex Spring: Also lol, Alex is a date\n",
            "Alex Spring: I would be a date to follow Alex lol\n",
            "Peixian Wang: no Alex are invited to a date to follow Alex\n",
            "\n",
            "[1410 | 1000.47] loss=1.74 avg=1.99\n",
            "[1420 | 1023.76] loss=1.65 avg=1.98\n",
            "[1430 | 1046.89] loss=1.11 avg=1.96\n",
            "[1440 | 1069.99] loss=1.31 avg=1.94\n",
            "[1450 | 1093.09] loss=1.10 avg=1.91\n",
            "[1460 | 1116.25] loss=1.89 avg=1.91\n",
            "[1470 | 1139.48] loss=1.74 avg=1.91\n",
            "[1480 | 1162.75] loss=1.98 avg=1.91\n",
            "[1490 | 1185.96] loss=2.25 avg=1.92\n",
            "[1500 | 1209.18] loss=1.77 avg=1.92\n",
            "Saving checkpoint/run1/model-1500\n",
            "[1510 | 1234.61] loss=1.49 avg=1.90\n",
            "[1520 | 1257.84] loss=2.06 avg=1.91\n",
            "[1530 | 1281.10] loss=1.94 avg=1.91\n",
            "[1540 | 1304.30] loss=1.72 avg=1.90\n",
            "[1550 | 1327.47] loss=1.67 avg=1.90\n",
            "[1560 | 1350.60] loss=1.50 avg=1.89\n",
            "[1570 | 1373.71] loss=1.17 avg=1.87\n",
            "[1580 | 1396.83] loss=1.86 avg=1.87\n",
            "[1590 | 1419.98] loss=1.76 avg=1.87\n",
            "[1600 | 1443.13] loss=1.59 avg=1.86\n",
            "Saving checkpoint/run1/model-1600\n",
            "======== SAMPLE 1 ========\n",
            "'s only the best, it's like 2 cmc\n",
            "John Ryan Hamilton: It's like \"mushroom\"\n",
            "Alex Spring: O neat\n",
            "Alex Spring: Yah wotc\n",
            "Peixian Wang: I really like this gyarados card\n",
            "Peixian Wang: \"Ooh come in gyar\"\n",
            "Peixian Wang: You need to play in gyar to activate their second ability\n",
            "John Ryan Hamilton: I'm more whelmed\n",
            "Peixian Wang: I played in gyar\"\n",
            "Peixian Wang: But yah it's not a combo\n",
            "Alex Spring: But... it's pretty close\n",
            "Peixian Wang: Cause it helps you gain life\n",
            "Peixian Wang: It's not a combo\n",
            "John Ryan Hamilton: \"Does this combo draw you life\" \"draws your life \"\n",
            "Peixian Wang: Itâs just a really dumb punky\n",
            "Peixian Wang: Man this card makes my living in the vegas so much easier\n",
            "Peixian Wang: I thought it was supposed to combo with hoof\n",
            "John Ryan Hamilton: Oh did it\n",
            "Peixian Wang: Can confirm wow\n",
            "Peixian Wang: Oh wait that's not a shitty punky\n",
            "Peixian Wang: This does not seem great though\n",
            "Dang FuFu: >does this combo with hoof\n",
            "Dang FuFu: >reads card well\n",
            "John Ryan Hamilton: That sounds kinda scurry\n",
            "Dang FuFu: And it continues until oko has 3/4 u control\n",
            "Dang FuFu: Like the first 4 turns\n",
            "John Ryan Hamilton: Combos with oko\n",
            "John Ryan Hamilton: Oko combos with either oko or a hoof\n",
            "John Ryan Hamilton: So 7/8\n",
            "John Ryan Hamilton: Also it might be scurry\n",
            "Dang FuFu: How good is oko\n",
            "Dang FuFu: Man I just got oko\n",
            "John Ryan Hamilton: It has potential\n",
            "John Ryan Hamilton: I see my bro as a different animal\n",
            "Dang FuFu: But is he a weeb cuz px is always bae?\n",
            "Dang FuFu: Is that because px is more of a weeb cuz pony\n",
            "John Ryan Hamilton: Every time I see him at vegas I am more so a weeb\n",
            "Dang FuFu: Are u a weeb?\n",
            "Dang FuFu: @John Ryan Hamilton r u an older boi\n",
            "Peixian Wang: You older fu?\n",
            "Peixian Wang: >notiping his grave\n",
            ">dismissing Meme in std\n",
            "Isoprah\n",
            "Dang FuFu: Its  susan pw still around\n",
            "Dang FuFu: But idk lol\n",
            "Dang FuFu: Yeah idk. Memes always exist\n",
            "Scott Kirkwood: I forgot that was a thing\n",
            "John Ryan Hamilton: I assumed you'd be using Meme\n",
            "John Ryan Hamilton: Can I?\n",
            "Dang FuFu: Ayyy\n",
            "John Ryan Hamilton: It's from 4/2s\n",
            "Dang FuFu: Memes never joke\n",
            "Dang FuFu: Uhh\n",
            "Scott Kirkwood: Uhh smasher is BACK FOTM!!!\n",
            "Peixian Wang: And it's really shitty though\n",
            "Peixian Wang: Like there's no smasher\n",
            "Peixian Wang: It's like the red mechanic too\n",
            "Peixian Wang: It looks adorable\n",
            "John Ryan Hamilton: So I've been slowly devolving into a generic green deck by now\n",
            "Peixian Wang: So I guess \"legendary\" is a bit too broad\n",
            "Peixian Wang: Yeah it's sweet\n",
            "John Ryan Hamilton: It's always welcome at my door\n",
            "Peixian Wang: And you can get it at every modern counter\n",
            "John Ryan Hamilton: Maybe they're just really good\n",
            "John Ryan Hamilton: Also JR do you still have legacy on your mantel\n",
            "Peixian Wang: https://www.classicmagic.com/news/the-decks-amp-modern-playoff/\n",
            "John Ryan Hamilton: The format continues to be the same, so anything that changes anything fundamentally changes the prize pool\n",
            "John Ryan Hamilton: *from exile will exiled  prize \n",
            "\n",
            "from the battlefield will be exiled\n",
            "Peixian Wang: So by definition you're asking for trouble, but realistically it's a lot easier to play the deck\n",
            "Peixian Wang: For me the biggest issue is that there's literally no such thing\n",
            "Dang FuFu: Wizards is only RNG friendly\n",
            "Peixian Wang: I do like my RNG match ups though\n",
            "Dang FuFu: Yeah. I think so XD\n",
            "John Ryan Hamilton: RNG vs ETB\n",
            "Dang FuFu: Yeah those are myos and it's a red thing\n",
            "John Ryan Hamilton: But yeah I'm hyped\n",
            "John Ryan Hamilton: PT would be a play\n",
            "\n",
            "[1610 | 1479.27] loss=1.82 avg=1.86\n",
            "[1620 | 1502.50] loss=1.50 avg=1.86\n",
            "[1630 | 1525.67] loss=1.35 avg=1.85\n",
            "[1640 | 1548.76] loss=1.52 avg=1.84\n",
            "[1650 | 1571.87] loss=2.05 avg=1.84\n",
            "[1660 | 1595.02] loss=1.84 avg=1.84\n",
            "[1670 | 1618.19] loss=1.47 avg=1.83\n",
            "[1680 | 1641.36] loss=1.60 avg=1.83\n",
            "[1690 | 1664.52] loss=1.67 avg=1.83\n",
            "[1700 | 1687.67] loss=1.17 avg=1.81\n",
            "Saving checkpoint/run1/model-1700\n",
            "[1710 | 1713.80] loss=1.01 avg=1.80\n",
            "[1720 | 1737.04] loss=1.24 avg=1.79\n",
            "[1730 | 1760.24] loss=1.61 avg=1.78\n",
            "[1740 | 1783.35] loss=1.88 avg=1.79\n",
            "[1750 | 1806.49] loss=1.26 avg=1.78\n",
            "[1760 | 1829.61] loss=1.28 avg=1.77\n",
            "[1770 | 1852.73] loss=1.66 avg=1.76\n",
            "[1780 | 1875.86] loss=1.26 avg=1.76\n",
            "[1790 | 1898.94] loss=1.84 avg=1.76\n",
            "[1800 | 1922.13] loss=1.69 avg=1.76\n",
            "Saving checkpoint/run1/model-1800\n",
            "======== SAMPLE 1 ========\n",
            "ents with 2 of them\n",
            "Peixian Wang: and that it also loses their fattest cards\n",
            "Dang FuFu: idk. idk if that actually happens.\n",
            "Peixian Wang: yeah idk if people do actually die from suicide watch us\n",
            "Dang FuFu: because its a card\n",
            "Dang FuFu: well... maybe they should be able to make suicide watch them at all :/\n",
            "Peixian Wang: I think the people who die from suicide watch are the people who actually die from suicide\n",
            "Dang FuFu: do u guys see jace in this?\n",
            "Peixian Wang: jace's partner is taking their own lives\n",
            "Dang FuFu: that's the real discussion saturday at 10am :p\n",
            "Scott Kirkwood: I can see arguments about which one to go with in the top comment\n",
            "Peixian Wang: but I wouldn't be surprised if it was suicide watch: we have a real talk about it\n",
            "Peixian Wang: I'd just go with whatever you go along way with the Tsingtacs community\n",
            "Peixian Wang: this is probably the t1 one at the time of this writing, which will almost certainly get me a spot in the finals\n",
            "Peixian Wang: but always the good guy beats the bad guy in a draft\n",
            "Peixian Wang: I always tell people \"in drafts you should go\"\n",
            "Peixian Wang: I'll go watch draft tomorrow though, because the t2 decks on stream have really high ceiling and the t3 decks on stream aren't exactly running them\n",
            "Peixian Wang: also I'm not an organizer, so I might as well be\n",
            "Peixian Wang: but I totally used it to my own advantage when I sold my car and started a car auction\n",
            "Peixian Wang: I never used that much money to pay for my car\n",
            "Peixian Wang: I gave it to him for draft insurance because he asked for it last week and I thought he should have it for me because I applied too late\n",
            "John Ryan Hamilton: Are you a car rafter?\n",
            "Peixian Wang: I am so ready for this to end\n",
            "Dang FuFu: He's also prob going to pay for his car for insurance next week though. I'll see if I can get him to pay for the car so I'm good buddies on the car insurance lmao\n",
            "John Ryan Hamilton: I can't say I don't want people to know I donate cars to charity so it'll be financially neutral\n",
            "Peixian Wang: also I think it's legit a lot cheaper than insurance lol\n",
            "Peixian Wang: who knows lol\n",
            "Peixian Wang: it's sorta tax deductible, but my car might be able to pick it up too\n",
            "Peixian Wang: you're not tax deductible, so I might be able to pick it up for you\n",
            "John Ryan Hamilton: I mean your car might be able to pick it up too\n",
            "Peixian Wang: no but I do want to pay for the deductible right\n",
            "John Ryan Hamilton: Is donating a car too much financially neutral?\n",
            "Peixian Wang: I feel like the tax haven arrangement might actually be better for auto leasing\n",
            "Peixian Wang: do you think there's a better, more cost-effective way to lease auto insurance vs buying auto insurance?\n",
            "John Ryan Hamilton: Just to clarify\n",
            "John Ryan Hamilton: I donât think donating a car to charity would be\n",
            "Peixian Wang: it's charity for a charity right\n",
            "John Ryan Hamilton: Well you donate a car to charity and you won't pay the cost of auto insurance lol\n",
            "Peixian Wang: it's not just a moral turp, it's charity based!\n",
            "Peixian Wang: I'd donate a car to charity, pay auto insurance, which would cover my auto leasing costs for now\n",
            "John Ryan Hamilton: I donate a car to charity and I donât want auto insurance\n",
            "John Ryan Hamilton: And also I donât think adding charity would significantly alter my policy, I think I sold my car a month ago, but it's nice to have charity around\n",
            "Peixian Wang: but I donate cars to charity anyways\n",
            "Peixian Wang: idk it's kinda bonkers people go through the pain\n",
            "John Ryan Hamilton: Faaaah\n",
            "John Ryan Hamilton: Man I donate cars?\n",
            "Peixian Wang: orgasms  tydies\n",
            "John Ryan Hamilton: Idk there are like 100 orgasms I should donate cars to\n",
            "Peixian Wang: but everyone is gen 1\n",
            "Peixian Wang: http://www.tyborshare.com/forums/show.php?f=26&st=0&border=0&p=FaaAACDF0C0&t=21st-24th-Century-Owned&%3Ac\n",
            "\n",
            "[1810 | 1958.32] loss=2.05 avg=1.76\n",
            "[1820 | 1981.52] loss=1.64 avg=1.76\n",
            "[1830 | 2004.65] loss=1.80 avg=1.76\n",
            "[1840 | 2027.81] loss=1.04 avg=1.75\n",
            "[1850 | 2051.00] loss=1.66 avg=1.75\n",
            "[1860 | 2074.18] loss=1.58 avg=1.74\n",
            "[1870 | 2097.36] loss=1.46 avg=1.74\n",
            "[1880 | 2120.59] loss=1.63 avg=1.74\n",
            "[1890 | 2143.82] loss=1.77 avg=1.74\n",
            "[1900 | 2167.07] loss=1.50 avg=1.73\n",
            "Saving checkpoint/run1/model-1900\n",
            "[1910 | 2192.54] loss=1.18 avg=1.72\n",
            "[1920 | 2215.87] loss=2.04 avg=1.73\n",
            "[1930 | 2239.20] loss=1.34 avg=1.72\n",
            "[1940 | 2262.46] loss=1.65 avg=1.72\n",
            "[1950 | 2285.72] loss=1.45 avg=1.72\n",
            "[1960 | 2308.94] loss=1.54 avg=1.71\n",
            "[1970 | 2332.17] loss=1.67 avg=1.71\n",
            "[1980 | 2355.40] loss=1.22 avg=1.71\n",
            "[1990 | 2378.61] loss=1.16 avg=1.70\n",
            "[2000 | 2401.83] loss=1.23 avg=1.69\n",
            "Saving checkpoint/run1/model-2000\n"
          ],
          "name": "stdout"
        }
      ]
    },
    {
      "cell_type": "code",
      "metadata": {
        "id": "VHdTL8NDbAh3",
        "colab_type": "code",
        "colab": {}
      },
      "source": [
        "gpt2.copy_checkpoint_to_gdrive(run_name='run1')"
      ],
      "execution_count": 0,
      "outputs": []
    },
    {
      "cell_type": "code",
      "metadata": {
        "id": "DCcx5u7sbPTD",
        "colab_type": "code",
        "colab": {}
      },
      "source": [
        "gpt2.copy_checkpoint_from_gdrive(run_name='run1')"
      ],
      "execution_count": 0,
      "outputs": []
    },
    {
      "cell_type": "code",
      "metadata": {
        "id": "-fxL77nvAMAX",
        "colab_type": "code",
        "outputId": "cd2e17fe-0ac1-48e2-a964-9dc545f72cf0",
        "colab": {
          "base_uri": "https://localhost:8080/",
          "height": 52
        }
      },
      "source": [
        "sess = gpt2.start_tf_sess()\n",
        "gpt2.load_gpt2(sess, run_name='run1')"
      ],
      "execution_count": 0,
      "outputs": [
        {
          "output_type": "stream",
          "text": [
            "Loading checkpoint checkpoint/run1/model-1000\n",
            "INFO:tensorflow:Restoring parameters from checkpoint/run1/model-1000\n"
          ],
          "name": "stdout"
        }
      ]
    },
    {
      "cell_type": "code",
      "metadata": {
        "id": "4RNY6RBI9LmL",
        "colab_type": "code",
        "outputId": "ffdf8f87-cad6-4823-ffd3-b698d6c8e982",
        "colab": {
          "base_uri": "https://localhost:8080/",
          "height": 1000
        }
      },
      "source": [
        "gpt2.generate(sess, run_name='run1')"
      ],
      "execution_count": 0,
      "outputs": [
        {
          "output_type": "stream",
          "text": [
            "John Ryan Hamilton: Itâs actually kinda nuts\n",
            "John Ryan Hamilton: I have like 5 other decks that canât get into Tasigur\n",
            "Peixian Wang: And also seems less likely to go to mythic for cycling lands\n",
            "Peixian Wang: I mean it seems like you're gonna get busted if you do get into the mythic\n",
            "John Ryan Hamilton: Lol\n",
            "Peixian Wang: It's like a bad unplayable card\n",
            "John Ryan Hamilton: Not in a bad order\n",
            "Peixian Wang: It's like a bad unplayable card\n",
            "John Ryan Hamilton: Youâll be worried about it\n",
            "Peixian Wang: It's an uncommon\n",
            "John Ryan Hamilton: Itâs not gonna get busted\n",
            "Peixian Wang: Maybe itâll get trashed as part of the traverse?\n",
            "John Ryan Hamilton: Okay so we have another 0 board clear before we get into the second half of the turn\n",
            "Peixian Wang: And also does not seem very good in the mirror\n",
            "Peixian Wang: Yeah trample and walker are also 0 clears\n",
            "John Ryan Hamilton: A completely new game plan\n",
            "John Ryan Hamilton: Also like walker and trident\n",
            "John Ryan Hamilton: I think walker is way better than trident\n",
            "Peixian Wang: Man this deck is bad\n",
            "Peixian Wang: Yeah it's definitely a tier 2 deck\n",
            "John Ryan Hamilton: The second half of the turn is pretty bad in the mirror\n",
            "Peixian Wang: Man I'm pretty sure the drunk dude got the entire game on the drunk player at the bar\n",
            "John Ryan Hamilton: The suspense\n",
            "Peixian Wang: And also this turns it into a reasonably competitive standard\n",
            "Peixian Wang: Yeah but that's also carnagebringer\n",
            "John Ryan Hamilton: Gonna need to be flipped once\n",
            "Peixian Wang: Also is this not a mythic lock tho\n",
            "Peixian Wang: >trample\n",
            "Peixian Wang: >drag death\n",
            "Peixian Wang: This is like not close to card neutral though\n",
            "Peixian Wang: I mean it is a 4/4 trample creature\n",
            "John Ryan Hamilton: Iâm pretty sure this is a mythic\n",
            "Peixian Wang: Cause this is a 4/4 trample creature\n",
            "John Ryan Hamilton: Wait is this a mythic lock\n",
            "Peixian Wang: nan\n",
            "Peixian Wang: Also this is a really cool thinking man theme\n",
            "Peixian Wang: Wow\n",
            "John Ryan Hamilton: The 3/3 flying menace seems real good\n",
            "John Ryan Hamilton: Itâs a 2/2 flying trample creature\n",
            "Peixian Wang: Is this trample menace a 2/2 trample creature\n",
            "John Ryan Hamilton: It is\n",
            "John Ryan Hamilton: It does seem like a good sb card\n",
            "Peixian Wang: Also is this a 1/1 tricolor creature?\n",
            "Peixian Wang: Wow this is some hot garbage\n",
            "John Ryan Hamilton: What a jerk this is deck constructed\n",
            "Peixian Wang: WHAT A KILL\n",
            "John Ryan Hamilton: This guy seems like a cool dude\n",
            "Peixian Wang: This is a real shitty commander\n",
            "Peixian Wang: Wow this guy is sick\n",
            "John Ryan Hamilton: https://mtgtop8.com/event?e=20440&d=13390&time=14c3\n",
            "Dang FuFu: ð\n",
            "Peixian Wang: @John Ryan Hamilton\n",
            "Dang FuFu: Kys\n",
            "Peixian Wang: ððð\n",
            "John Ryan Hamilton: And weâll get pinged by kys once or twice a week\n",
            "Peixian Wang: I'm trying to decide if I wanna go with the normal CJ or if I'll just wing it for Johannes\n",
            "Peixian Wang: I'm trying to convince CJ to get me a beer\n",
            "Peixian Wang: Are we just getting warmed up for the future\n",
            "John Ryan Hamilton: So Iâm not terribly opposed to it\n",
            "John Ryan Hamilton: But I'm not totally opposed\n",
            "Peixian Wang: To give us all a quick update on the status of the Korean War\n",
            "Peixian Wang: The US has lost a lot of ground in Korea, and I think there are still a lot of people in Korea who don't like the Korean War\n",
            "Peixian Wang: The war in Syria started in mid-2012, and I think it's still a mistake to try to change that\n",
            "Peixian Wang: There are still a lot of people in Korea who don't like the Korean War\n",
            "Dang FuFu: lol\n",
            "Dang FuFu\n"
          ],
          "name": "stdout"
        }
      ]
    },
    {
      "cell_type": "code",
      "metadata": {
        "id": "8DKMc0fiej4N",
        "colab_type": "code",
        "outputId": "946da2f3-a827-4007-9eb0-da99de7329f3",
        "colab": {
          "base_uri": "https://localhost:8080/",
          "height": 1000
        }
      },
      "source": [
        "gpt2.generate(sess,\n",
        "              length=250,\n",
        "              temperature=0.7,\n",
        "              prefix=\"mana\",\n",
        "              nsamples=5,\n",
        "              batch_size=5\n",
        "              )"
      ],
      "execution_count": 0,
      "outputs": [
        {
          "output_type": "stream",
          "text": [
            "mana\n",
            "John Ryan Hamilton: And it's not like the GP is a yearly thing\n",
            "John Ryan Hamilton: With the exception of the fact that it's not a yearly tournament\n",
            "John Ryan Hamilton: Well you can technically bring your friend\n",
            "Peixian Wang: So it's like not *quite* GP\n",
            "Peixian Wang: There's no requirements for entry\n",
            "Peixian Wang: No you can come to the tournament *by* you can come to the cash bar at the venue\n",
            "John Ryan Hamilton: Cash is accepted at the venue\n",
            "John Ryan Hamilton: No tcg? No, not yet\n",
            "Peixian Wang: Oh wait you can come to the cash bar at the venue?\n",
            "John Ryan Hamilton: Cash is accepted at the venue\n",
            "Peixian Wang: Extra fees*\n",
            "John Ryan Hamilton: So how much does it cost to bring a cosplaying llr? 500? 1000?\n",
            "Peixian Wang: It's free?\n",
            "John Ryan Hamilton: Also if you're going you wanna come to the cash bar at the venue\n",
            "John Ryan Hamilton: https://twitter.com/faristart/status/11976474498261144\n",
            "Peixian Wang: https://twitter.\n",
            "====================\n",
            "mana\n",
            "John Ryan Hamilton: Where are the timetables\n",
            "John Ryan Hamilton: Wait have you figured out how to get all the timetables in one place\n",
            "Peixian Wang: Also I think it's a lot easier to find the restaurant directly\n",
            "John Ryan Hamilton: No but that's kinda sad\n",
            "Peixian Wang: Too bad most walkers go past first aid\n",
            "John Ryan Hamilton: Wait most walkers go past first aid and cancer\n",
            "John Ryan Hamilton: Wait cancer\n",
            "Peixian Wang: I've heard it says \"injectable into aqueous\"\n",
            "John Ryan Hamilton: Wait not sure of that\n",
            "Peixian Wang: Is it a cure for cancer\n",
            "John Ryan Hamilton: Wait most people get it from food\n",
            "Peixian Wang: Did you get cancer from eating stale bread\n",
            "Alex Spring: and yah a plague of sorts\n",
            "John Ryan Hamilton: Yeah lmao\n",
            "Alex Spring: and yah, you get the idea\n",
            "Peixian Wang: And it's not a plague of sorts, it's just food\n",
            "Peixian Wang: No cancer of sorts\n",
            "John Ryan Hamilton: No cancer of sorts\n",
            "Peixian Wang: I think the food thing is just some guy\n",
            "====================\n",
            "mana, tis the season\n",
            "Peixian Wang: I was gonna say it's only like a semester now\n",
            "Peixian Wang: maybe it's time for george to drop out too lol\n",
            "Peixian Wang: I mean yeah\n",
            "Alex Spring: Wow, that's not a big deal. He's on a plane and is happily writing a follow up to his 2010 book \"Trafficking in Corrupt Politics\"\n",
            "Peixian Wang: https://assets.documentcloud.org/documents/3416383/Trump-EO-Draft-on-Refugees.pdf\n",
            "Peixian Wang: do you not remember when the intelligence community went on a six month groundswell of protest at this point by nearly a million people??\n",
            "Peixian Wang: it's amazing\n",
            "Peixian Wang: man the internet makes it all go boom and go lol\n",
            "Peixian Wang: https://assets.documentcloud.org/documents/3416383/Trump-Draft-on-Refugees.pdf\n",
            "Dang FuFu: ð\n",
            "Peixian Wang: https://assets.documentcloud.org/documents/3416383/\n",
            "====================\n",
            "mana\n",
            "Peixian Wang: oh man\n",
            "Scott Kirkwood: Does this mean we can get some new anime every 2 years?\n",
            "Peixian Wang: wow that was a really good post\n",
            "Scott Kirkwood: nan\n",
            "Peixian Wang: also happy belted out birthday boyos\n",
            "Peixian Wang: >kludge\n",
            "John Ryan Hamilton: See\n",
            "Dang FuFu: ð\n",
            "Peixian Wang: we will celebrate with him\n",
            "Peixian Wang: we can go bowling with him\n",
            "Dang FuFu: ð\n",
            "Peixian Wang: I'd like some autograph\n",
            "Peixian Wang: wanna join the fun\n",
            "Alex Spring: You should come to HoK\n",
            "Alex Spring: Gonna do a free trial in the States\n",
            "John Ryan Hamilton: Oh man we're prob doing free trial in the fall/early winter\n",
            "Dang FuFu: ð\n",
            "Peixian Wang: we can relax for like a month and figure out what we want to do after\n",
            "Peixian Wang: yeah exactly\n",
            "John Ryan Hamilton: So that plus the fact I can be out of the country\n",
            "====================\n",
            "mana, I'm just not convinced\n",
            "Peixian Wang: is the apartment BB getting BB money for the show is super fucking hot\n",
            "Dang FuFu: ð\n",
            "Dang FuFu: Also appearantly the manager told me he found the \"2nd floor corridor\"\n",
            "Peixian Wang: I'm staying the night\n",
            "Dang FuFu: I dont hate the manager\n",
            "Peixian Wang: nan\n",
            "Dang FuFu: ð\n",
            "Peixian Wang: nan\n",
            "Peixian Wang: nan\n",
            "Peixian Wang: nan\n",
            "Peixian Wang: aight\n",
            "Scott Kirkwood: Maybe I can get a better bed than what followed lol\n",
            "Peixian Wang: you gave my cats good bedtime\n",
            "Peixian Wang: yeah but cat was so attached to his bed that it made sense\n",
            "Peixian Wang: yeah cat was already bored outside so he didn't want to leave\n",
            "Scott Kirkwood: ð\n",
            "Dang FuFu: ð\n",
            "Peixian Wang: sleep's so good\n",
            "Peixian Wang: nan\n",
            "Peixian Wang\n",
            "====================\n"
          ],
          "name": "stdout"
        }
      ]
    },
    {
      "cell_type": "code",
      "metadata": {
        "id": "Fa6p6arifSL0",
        "colab_type": "code",
        "colab": {}
      },
      "source": [
        "gen_file = 'gpt2_gentext_{:%Y%m%d_%H%M%S}.txt'.format(datetime.utcnow())\n",
        "\n",
        "gpt2.generate_to_file(sess,\n",
        "                      destination_path=gen_file,\n",
        "                      length=500,\n",
        "                      temperature=0.7,\n",
        "                      nsamples=100,\n",
        "                      batch_size=20\n",
        "                      )"
      ],
      "execution_count": 0,
      "outputs": []
    }
  ]
}